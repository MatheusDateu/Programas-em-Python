{
 "cells": [
  {
   "cell_type": "code",
   "execution_count": 22,
   "id": "76feb703",
   "metadata": {},
   "outputs": [
    {
     "data": {
      "text/plain": [
       "'OK'"
      ]
     },
     "execution_count": 22,
     "metadata": {},
     "output_type": "execute_result"
    }
   ],
   "source": [
    "import pyautogui\n",
    "import time\n",
    "\n",
    "pyautogui.alert(\"O bot irá trabalhar. Não toque em nada\")\n",
    "pyautogui.PAUSE = 0.5\n",
    "#Abrir o google drive\n",
    "pyautogui.press('winleft')\n",
    "pyautogui.write('edge')\n",
    "pyautogui.press('enter')\n",
    "time.sleep(1)\n",
    "pyautogui.write(\"https://drive.google.com/drive/u/0/my-drive\")\n",
    "pyautogui.press('enter')\n",
    "time.sleep(2)\n",
    "\n",
    "#entrar na área de trabalho\n",
    "pyautogui.hotkey('winleft','d')\n",
    "time.sleep(2)\n",
    "\n",
    "#selecionar o arquivo que deseja-se que seja arrastado para o drive\n",
    "pyautogui.moveTo(143, 150)\n",
    "pyautogui.mouseDown()\n",
    "pyautogui.moveTo(1676, 941)\n",
    "time.sleep(3)\n",
    "pyautogui.hotkey('alt', 'tab')\n",
    "pyautogui.mouseUp()\n",
    "#esperar 5 segundos para dar tempo do processo ser concluído\n",
    "time.sleep(5)\n",
    "pyautogui.alert(\"Processo finalizado. Já pode mexer no seu computador livremente.\")"
   ]
  },
  {
   "cell_type": "code",
   "execution_count": 21,
   "id": "1a667edf",
   "metadata": {},
   "outputs": [
    {
     "data": {
      "text/plain": [
       "Point(x=1067, y=379)"
      ]
     },
     "execution_count": 21,
     "metadata": {},
     "output_type": "execute_result"
    }
   ],
   "source": [
    "time.sleep(2)\n",
    "pyautogui.position()"
   ]
  },
  {
   "cell_type": "code",
   "execution_count": null,
   "id": "92c720b4",
   "metadata": {},
   "outputs": [],
   "source": []
  }
 ],
 "metadata": {
  "kernelspec": {
   "display_name": "Python 3",
   "language": "python",
   "name": "python3"
  },
  "language_info": {
   "codemirror_mode": {
    "name": "ipython",
    "version": 3
   },
   "file_extension": ".py",
   "mimetype": "text/x-python",
   "name": "python",
   "nbconvert_exporter": "python",
   "pygments_lexer": "ipython3",
   "version": "3.8.8"
  }
 },
 "nbformat": 4,
 "nbformat_minor": 5
}
